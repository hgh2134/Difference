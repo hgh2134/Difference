{
 "cells": [
  {
   "cell_type": "code",
   "execution_count": 32,
   "id": "8fba76ce-bb50-4af7-a159-c8bfa250c6bd",
   "metadata": {},
   "outputs": [],
   "source": [
    "ratio = [0.2,0.3,1]\n",
    "all(i>=0 for i in ratio)\n",
    "data = torch.zeros(30, 3, 64, 64 )"
   ]
  },
  {
   "cell_type": "code",
   "execution_count": 34,
   "id": "cecc07d9-e383-4dc2-8d10-9ab4e5000943",
   "metadata": {},
   "outputs": [
    {
     "data": {
      "text/plain": [
       "torch.Size([30, 6, 64, 64])"
      ]
     },
     "execution_count": 34,
     "metadata": {},
     "output_type": "execute_result"
    }
   ],
   "source": [
    "torch.cat((data, data), axis = 1).shape"
   ]
  },
  {
   "cell_type": "code",
   "execution_count": 54,
   "id": "64810c8e-59d5-4f80-9f31-81e575bcb246",
   "metadata": {},
   "outputs": [
    {
     "data": {
      "text/plain": [
       "tensor([[ 1,  2,  3],\n",
       "        [ 4,  5,  6],\n",
       "        [ 7,  8,  9],\n",
       "        [10, 11, 12]])"
      ]
     },
     "execution_count": 54,
     "metadata": {},
     "output_type": "execute_result"
    }
   ],
   "source": [
    "x"
   ]
  },
  {
   "cell_type": "code",
   "execution_count": 62,
   "id": "5a67829e-886c-4a63-99b4-d396fae3fc09",
   "metadata": {},
   "outputs": [
    {
     "data": {
      "text/plain": [
       "tensor([[ 2,  3,  1],\n",
       "        [ 5,  6,  4],\n",
       "        [ 8,  9,  7],\n",
       "        [11, 12, 10]])"
      ]
     },
     "execution_count": 62,
     "metadata": {},
     "output_type": "execute_result"
    }
   ],
   "source": [
    "x[:,c]"
   ]
  },
  {
   "cell_type": "code",
   "execution_count": 77,
   "id": "fa69de6f-cd79-407a-a869-9440ddd392f0",
   "metadata": {},
   "outputs": [
    {
     "data": {
      "text/plain": [
       "tensor([0, 1, 3, 4])"
      ]
     },
     "execution_count": 77,
     "metadata": {},
     "output_type": "execute_result"
    }
   ],
   "source": [
    "index1= torch.sort(torch.cat((torch.arange(2)*3, torch.arange(2)*3+1) ))[0]\n",
    "index1"
   ]
  },
  {
   "cell_type": "code",
   "execution_count": 78,
   "id": "2736f1bb-b10c-4436-99ec-d1ade575014f",
   "metadata": {},
   "outputs": [
    {
     "name": "stdout",
     "output_type": "stream",
     "text": [
      "tensor([[ 0,  1,  2],\n",
      "        [ 3,  4,  5],\n",
      "        [ 6,  7,  8],\n",
      "        [ 9, 10, 11],\n",
      "        [12, 13, 14],\n",
      "        [15, 16, 17]])\n",
      "torch.Size([6, 3])\n",
      "tensor([[ 0,  1,  2,  3,  4,  5,  6,  7,  8],\n",
      "        [ 9, 10, 11, 12, 13, 14, 15, 16, 17]])\n"
     ]
    },
    {
     "data": {
      "text/plain": [
       "tensor([[ 0,  1,  2,  3,  4,  5],\n",
       "        [ 9, 10, 11, 12, 13, 14]])"
      ]
     },
     "execution_count": 78,
     "metadata": {},
     "output_type": "execute_result"
    }
   ],
   "source": [
    "x =torch.arange(18)\n",
    "x = x.reshape(6,3)\n",
    "print(x)\n",
    "\n",
    "print(x.shape)\n",
    "print(x.reshape(2, -1))\n",
    "\n",
    "x[index1].reshape(2,6)"
   ]
  },
  {
   "cell_type": "code",
   "execution_count": 61,
   "id": "60e52fb1-e93c-4fc7-b5a0-08747e9a9ed6",
   "metadata": {},
   "outputs": [
    {
     "data": {
      "text/plain": [
       "tensor([1, 2, 0])"
      ]
     },
     "execution_count": 61,
     "metadata": {},
     "output_type": "execute_result"
    }
   ],
   "source": [
    "c=torch.randperm(3)\n",
    "c"
   ]
  },
  {
   "cell_type": "code",
   "execution_count": 43,
   "id": "6abd5508-e904-48cf-81eb-a3b5f5f91982",
   "metadata": {},
   "outputs": [
    {
     "ename": "NameError",
     "evalue": "name 'batch_size' is not defined",
     "output_type": "error",
     "traceback": [
      "\u001b[0;31m---------------------------------------------------------------------------\u001b[0m",
      "\u001b[0;31mNameError\u001b[0m                                 Traceback (most recent call last)",
      "\u001b[0;32m/tmp/ipykernel_2775091/2937566414.py\u001b[0m in \u001b[0;36m<module>\u001b[0;34m\u001b[0m\n\u001b[0;32m----> 1\u001b[0;31m \u001b[0;34m(\u001b[0m\u001b[0mbatch_size\u001b[0m\u001b[0;34m,\u001b[0m \u001b[0;34m-\u001b[0m\u001b[0;36m1\u001b[0m\u001b[0;34m,\u001b[0m \u001b[0;34m*\u001b[0m\u001b[0mdata\u001b[0m\u001b[0;34m.\u001b[0m\u001b[0mshape\u001b[0m\u001b[0;34m[\u001b[0m\u001b[0;36m2\u001b[0m\u001b[0;34m:\u001b[0m\u001b[0;36m4\u001b[0m\u001b[0;34m]\u001b[0m\u001b[0;34m)\u001b[0m\u001b[0;34m,\u001b[0m\u001b[0mnum_inverse\u001b[0m\u001b[0;34m\u001b[0m\u001b[0;34m\u001b[0m\u001b[0m\n\u001b[0m",
      "\u001b[0;31mNameError\u001b[0m: name 'batch_size' is not defined"
     ]
    }
   ],
   "source": [
    "(batch_size, -1, *data.shape[2:4]),num_inverse"
   ]
  },
  {
   "cell_type": "code",
   "execution_count": 87,
   "id": "0ba47964-3165-42cd-9779-38ece3474a28",
   "metadata": {},
   "outputs": [],
   "source": [
    "data = torch.zeros(20, 3, 64, 64) + torch.arange(20).view(-1, 1,1,1)"
   ]
  },
  {
   "cell_type": "code",
   "execution_count": 90,
   "id": "6ce131d1-4368-496c-95ad-fcee7bdbd2f6",
   "metadata": {},
   "outputs": [
    {
     "data": {
      "text/plain": [
       "tensor([[[1., 1., 1.,  ..., 1., 1., 1.],\n",
       "         [1., 1., 1.,  ..., 1., 1., 1.],\n",
       "         [1., 1., 1.,  ..., 1., 1., 1.],\n",
       "         ...,\n",
       "         [1., 1., 1.,  ..., 1., 1., 1.],\n",
       "         [1., 1., 1.,  ..., 1., 1., 1.],\n",
       "         [1., 1., 1.,  ..., 1., 1., 1.]],\n",
       "\n",
       "        [[1., 1., 1.,  ..., 1., 1., 1.],\n",
       "         [1., 1., 1.,  ..., 1., 1., 1.],\n",
       "         [1., 1., 1.,  ..., 1., 1., 1.],\n",
       "         ...,\n",
       "         [1., 1., 1.,  ..., 1., 1., 1.],\n",
       "         [1., 1., 1.,  ..., 1., 1., 1.],\n",
       "         [1., 1., 1.,  ..., 1., 1., 1.]],\n",
       "\n",
       "        [[1., 1., 1.,  ..., 1., 1., 1.],\n",
       "         [1., 1., 1.,  ..., 1., 1., 1.],\n",
       "         [1., 1., 1.,  ..., 1., 1., 1.],\n",
       "         ...,\n",
       "         [1., 1., 1.,  ..., 1., 1., 1.],\n",
       "         [1., 1., 1.,  ..., 1., 1., 1.],\n",
       "         [1., 1., 1.,  ..., 1., 1., 1.]]])"
      ]
     },
     "execution_count": 90,
     "metadata": {},
     "output_type": "execute_result"
    }
   ],
   "source": [
    "data[1]"
   ]
  },
  {
   "cell_type": "code",
   "execution_count": 122,
   "id": "58041bb5-c818-4803-a907-ebfc02ef781c",
   "metadata": {},
   "outputs": [
    {
     "data": {
      "text/plain": [
       "[64, 64]"
      ]
     },
     "execution_count": 122,
     "metadata": {},
     "output_type": "execute_result"
    }
   ],
   "source": [
    "[*data.shape[2:]]"
   ]
  },
  {
   "cell_type": "code",
   "execution_count": 125,
   "id": "879921b6-1c24-423f-8b63-e30b04165640",
   "metadata": {},
   "outputs": [],
   "source": []
  },
  {
   "cell_type": "code",
   "execution_count": 140,
   "id": "c4262bc6-db7c-4eab-a0a2-86fad242aae4",
   "metadata": {},
   "outputs": [],
   "source": [
    "def make_pairing(data):    \n",
    "    '''\n",
    "        data: 2N X C X H X W\n",
    "        return: N X 2C X H X W\n",
    "    '''\n",
    "    batch_size = data.shape[0]\n",
    "    assert batch_size%2 == 0\n",
    "    return data.reshape(batch_size//2, -1, *data.shape[2:])\n",
    "    \n",
    "def data_group(data):\n",
    "    '''\n",
    "        Make data for check axiom of group\n",
    "        data_zero: g, g\n",
    "        data_inverse1:, g, h\n",
    "        data_inverse2: h, g\n",
    "        data_assoc1: g,h\n",
    "        data_assoc2: h, r\n",
    "    '''\n",
    "    batch_size = data.shape[0]\n",
    "    \n",
    "    index_zero = torch.repeat_interleave(torch.arange(batch_size),2)\n",
    "    data_zero = make_pairing(data[index_zero])\n",
    "    \n",
    "    num_inverse = batch_size//2\n",
    "    index_inverse1 = torch.arange(batch_size)\n",
    "    index_inverse2 = torch.arange(batch_size) + torch.tensor([1,-1]).repeat(num_inverse)\n",
    "    data_inverse1 = make_pairing(data[index_inverse1])\n",
    "    data_inverse2 = make_pairing(data[index_inverse2])\n",
    "    \n",
    "    num_assoc = batch_size//3\n",
    "    random_batch_index = torch.randperm(num_assoc*3)\n",
    "    shuffled_data = data[random_batch_index]\n",
    "    \n",
    "    index_assoc1= torch.sort(torch.cat((torch.arange(num_assoc)*3, torch.arange(num_assoc)*3+1) ))[0]\n",
    "    index_assoc2 = torch.sort(torch.cat((torch.arange(num_assoc)*3+1, torch.arange(num_assoc)*3+2) ))[0]\n",
    "    data_assoc1 = make_pairing(shuffled_data[index_assoc1])\n",
    "    data_assoc2 = make_pairing(shuffled_data[index_assoc2])\n",
    "    return data_zero, data_inverse1, data_inverse2, data_assoc1, data_assoc2"
   ]
  },
  {
   "cell_type": "code",
   "execution_count": 144,
   "id": "d94d5ea0-09d8-4d09-8a8e-58050cf8609c",
   "metadata": {},
   "outputs": [],
   "source": [
    "grouped = data_group(data)"
   ]
  },
  {
   "cell_type": "code",
   "execution_count": 146,
   "id": "9a315852-08ba-4ebb-85be-9fcc46e62813",
   "metadata": {},
   "outputs": [
    {
     "data": {
      "text/plain": [
       "(tensor([[[ 2.,  2.,  2.,  ...,  2.,  2.,  2.],\n",
       "          [ 2.,  2.,  2.,  ...,  2.,  2.,  2.],\n",
       "          [ 2.,  2.,  2.,  ...,  2.,  2.,  2.],\n",
       "          ...,\n",
       "          [ 2.,  2.,  2.,  ...,  2.,  2.,  2.],\n",
       "          [ 2.,  2.,  2.,  ...,  2.,  2.,  2.],\n",
       "          [ 2.,  2.,  2.,  ...,  2.,  2.,  2.]],\n",
       " \n",
       "         [[ 2.,  2.,  2.,  ...,  2.,  2.,  2.],\n",
       "          [ 2.,  2.,  2.,  ...,  2.,  2.,  2.],\n",
       "          [ 2.,  2.,  2.,  ...,  2.,  2.,  2.],\n",
       "          ...,\n",
       "          [ 2.,  2.,  2.,  ...,  2.,  2.,  2.],\n",
       "          [ 2.,  2.,  2.,  ...,  2.,  2.,  2.],\n",
       "          [ 2.,  2.,  2.,  ...,  2.,  2.,  2.]],\n",
       " \n",
       "         [[ 2.,  2.,  2.,  ...,  2.,  2.,  2.],\n",
       "          [ 2.,  2.,  2.,  ...,  2.,  2.,  2.],\n",
       "          [ 2.,  2.,  2.,  ...,  2.,  2.,  2.],\n",
       "          ...,\n",
       "          [ 2.,  2.,  2.,  ...,  2.,  2.,  2.],\n",
       "          [ 2.,  2.,  2.,  ...,  2.,  2.,  2.],\n",
       "          [ 2.,  2.,  2.,  ...,  2.,  2.,  2.]],\n",
       " \n",
       "         [[13., 13., 13.,  ..., 13., 13., 13.],\n",
       "          [13., 13., 13.,  ..., 13., 13., 13.],\n",
       "          [13., 13., 13.,  ..., 13., 13., 13.],\n",
       "          ...,\n",
       "          [13., 13., 13.,  ..., 13., 13., 13.],\n",
       "          [13., 13., 13.,  ..., 13., 13., 13.],\n",
       "          [13., 13., 13.,  ..., 13., 13., 13.]],\n",
       " \n",
       "         [[13., 13., 13.,  ..., 13., 13., 13.],\n",
       "          [13., 13., 13.,  ..., 13., 13., 13.],\n",
       "          [13., 13., 13.,  ..., 13., 13., 13.],\n",
       "          ...,\n",
       "          [13., 13., 13.,  ..., 13., 13., 13.],\n",
       "          [13., 13., 13.,  ..., 13., 13., 13.],\n",
       "          [13., 13., 13.,  ..., 13., 13., 13.]],\n",
       " \n",
       "         [[13., 13., 13.,  ..., 13., 13., 13.],\n",
       "          [13., 13., 13.,  ..., 13., 13., 13.],\n",
       "          [13., 13., 13.,  ..., 13., 13., 13.],\n",
       "          ...,\n",
       "          [13., 13., 13.,  ..., 13., 13., 13.],\n",
       "          [13., 13., 13.,  ..., 13., 13., 13.],\n",
       "          [13., 13., 13.,  ..., 13., 13., 13.]]]),\n",
       " tensor([[[13., 13., 13.,  ..., 13., 13., 13.],\n",
       "          [13., 13., 13.,  ..., 13., 13., 13.],\n",
       "          [13., 13., 13.,  ..., 13., 13., 13.],\n",
       "          ...,\n",
       "          [13., 13., 13.,  ..., 13., 13., 13.],\n",
       "          [13., 13., 13.,  ..., 13., 13., 13.],\n",
       "          [13., 13., 13.,  ..., 13., 13., 13.]],\n",
       " \n",
       "         [[13., 13., 13.,  ..., 13., 13., 13.],\n",
       "          [13., 13., 13.,  ..., 13., 13., 13.],\n",
       "          [13., 13., 13.,  ..., 13., 13., 13.],\n",
       "          ...,\n",
       "          [13., 13., 13.,  ..., 13., 13., 13.],\n",
       "          [13., 13., 13.,  ..., 13., 13., 13.],\n",
       "          [13., 13., 13.,  ..., 13., 13., 13.]],\n",
       " \n",
       "         [[13., 13., 13.,  ..., 13., 13., 13.],\n",
       "          [13., 13., 13.,  ..., 13., 13., 13.],\n",
       "          [13., 13., 13.,  ..., 13., 13., 13.],\n",
       "          ...,\n",
       "          [13., 13., 13.,  ..., 13., 13., 13.],\n",
       "          [13., 13., 13.,  ..., 13., 13., 13.],\n",
       "          [13., 13., 13.,  ..., 13., 13., 13.]],\n",
       " \n",
       "         [[ 0.,  0.,  0.,  ...,  0.,  0.,  0.],\n",
       "          [ 0.,  0.,  0.,  ...,  0.,  0.,  0.],\n",
       "          [ 0.,  0.,  0.,  ...,  0.,  0.,  0.],\n",
       "          ...,\n",
       "          [ 0.,  0.,  0.,  ...,  0.,  0.,  0.],\n",
       "          [ 0.,  0.,  0.,  ...,  0.,  0.,  0.],\n",
       "          [ 0.,  0.,  0.,  ...,  0.,  0.,  0.]],\n",
       " \n",
       "         [[ 0.,  0.,  0.,  ...,  0.,  0.,  0.],\n",
       "          [ 0.,  0.,  0.,  ...,  0.,  0.,  0.],\n",
       "          [ 0.,  0.,  0.,  ...,  0.,  0.,  0.],\n",
       "          ...,\n",
       "          [ 0.,  0.,  0.,  ...,  0.,  0.,  0.],\n",
       "          [ 0.,  0.,  0.,  ...,  0.,  0.,  0.],\n",
       "          [ 0.,  0.,  0.,  ...,  0.,  0.,  0.]],\n",
       " \n",
       "         [[ 0.,  0.,  0.,  ...,  0.,  0.,  0.],\n",
       "          [ 0.,  0.,  0.,  ...,  0.,  0.,  0.],\n",
       "          [ 0.,  0.,  0.,  ...,  0.,  0.,  0.],\n",
       "          ...,\n",
       "          [ 0.,  0.,  0.,  ...,  0.,  0.,  0.],\n",
       "          [ 0.,  0.,  0.,  ...,  0.,  0.,  0.],\n",
       "          [ 0.,  0.,  0.,  ...,  0.,  0.,  0.]]]))"
      ]
     },
     "execution_count": 146,
     "metadata": {},
     "output_type": "execute_result"
    }
   ],
   "source": [
    "grouped[3][1], grouped[4][1]"
   ]
  },
  {
   "cell_type": "code",
   "execution_count": 26,
   "id": "49ff0cf1-2e4d-4506-b815-30249a4f7b51",
   "metadata": {},
   "outputs": [
    {
     "data": {
      "text/plain": [
       "(torch.Size([4, 2, 64, 64]),\n",
       " torch.Size([18, 2, 64, 64]),\n",
       " torch.Size([8, 2, 64, 64]))"
      ]
     },
     "execution_count": 26,
     "metadata": {},
     "output_type": "execute_result"
    }
   ],
   "source": [
    "a.shape, b.shape, c.shape"
   ]
  },
  {
   "cell_type": "code",
   "execution_count": 8,
   "id": "09222d62-6c53-4b16-9da6-9e2841b6a255",
   "metadata": {},
   "outputs": [],
   "source": [
    "def collate_fn(data):\n",
    "    \"\"\"\n",
    "       data: is a list of tuples with (example, label, length)\n",
    "             where 'example' is a tensor of arbitrary shape\n",
    "             and label/length are scalars\n",
    "    \"\"\"\n",
    "    _, labels, lengths = zip(*data)\n",
    "    max_len = max(lengths)\n",
    "    n_ftrs = data[0][0].size(1)\n",
    "    features = torch.zeros((len(data), max_len, n_ftrs))\n",
    "    labels = torch.tensor(labels)\n",
    "    lengths = torch.tensor(lengths)\n",
    "\n",
    "    for i in range(len(data)):\n",
    "        j, k = data[i][0].size(0), data[i][0].size(1)\n",
    "        features[i] = torch.cat([data[i][0], torch.zeros((max_len - j, k))])\n",
    "\n",
    "    return features.float(), labels.long(), lengths.long()"
   ]
  },
  {
   "cell_type": "code",
   "execution_count": 11,
   "id": "cb7ff699-e0c0-4720-8c0c-2492c0758500",
   "metadata": {},
   "outputs": [
    {
     "ename": "ValueError",
     "evalue": "not enough values to unpack (expected 3, got 2)",
     "output_type": "error",
     "traceback": [
      "\u001b[0;31m---------------------------------------------------------------------------\u001b[0m",
      "\u001b[0;31mValueError\u001b[0m                                Traceback (most recent call last)",
      "\u001b[0;32m/tmp/ipykernel_2775091/3912702569.py\u001b[0m in \u001b[0;36m<module>\u001b[0;34m\u001b[0m\n\u001b[0;32m----> 1\u001b[0;31m \u001b[0mcollate_fn\u001b[0m\u001b[0;34m(\u001b[0m\u001b[0mdata\u001b[0m\u001b[0;34m)\u001b[0m\u001b[0;34m\u001b[0m\u001b[0;34m\u001b[0m\u001b[0m\n\u001b[0m",
      "\u001b[0;32m/tmp/ipykernel_2775091/3327687652.py\u001b[0m in \u001b[0;36mcollate_fn\u001b[0;34m(data)\u001b[0m\n\u001b[1;32m      5\u001b[0m              \u001b[0;32mand\u001b[0m \u001b[0mlabel\u001b[0m\u001b[0;34m/\u001b[0m\u001b[0mlength\u001b[0m \u001b[0mare\u001b[0m \u001b[0mscalars\u001b[0m\u001b[0;34m\u001b[0m\u001b[0;34m\u001b[0m\u001b[0m\n\u001b[1;32m      6\u001b[0m     \"\"\"\n\u001b[0;32m----> 7\u001b[0;31m     \u001b[0m_\u001b[0m\u001b[0;34m,\u001b[0m \u001b[0mlabels\u001b[0m\u001b[0;34m,\u001b[0m \u001b[0mlengths\u001b[0m \u001b[0;34m=\u001b[0m \u001b[0mzip\u001b[0m\u001b[0;34m(\u001b[0m\u001b[0;34m*\u001b[0m\u001b[0mdata\u001b[0m\u001b[0;34m)\u001b[0m\u001b[0;34m\u001b[0m\u001b[0;34m\u001b[0m\u001b[0m\n\u001b[0m\u001b[1;32m      8\u001b[0m     \u001b[0mmax_len\u001b[0m \u001b[0;34m=\u001b[0m \u001b[0mmax\u001b[0m\u001b[0;34m(\u001b[0m\u001b[0mlengths\u001b[0m\u001b[0;34m)\u001b[0m\u001b[0;34m\u001b[0m\u001b[0;34m\u001b[0m\u001b[0m\n\u001b[1;32m      9\u001b[0m     \u001b[0mn_ftrs\u001b[0m \u001b[0;34m=\u001b[0m \u001b[0mdata\u001b[0m\u001b[0;34m[\u001b[0m\u001b[0;36m0\u001b[0m\u001b[0;34m]\u001b[0m\u001b[0;34m[\u001b[0m\u001b[0;36m0\u001b[0m\u001b[0;34m]\u001b[0m\u001b[0;34m.\u001b[0m\u001b[0msize\u001b[0m\u001b[0;34m(\u001b[0m\u001b[0;36m1\u001b[0m\u001b[0;34m)\u001b[0m\u001b[0;34m\u001b[0m\u001b[0;34m\u001b[0m\u001b[0m\n",
      "\u001b[0;31mValueError\u001b[0m: not enough values to unpack (expected 3, got 2)"
     ]
    }
   ],
   "source": [
    "collate_fn(data)"
   ]
  }
 ],
 "metadata": {
  "kernelspec": {
   "display_name": "GroupDiff",
   "language": "python",
   "name": "groupkernel"
  },
  "language_info": {
   "codemirror_mode": {
    "name": "ipython",
    "version": 3
   },
   "file_extension": ".py",
   "mimetype": "text/x-python",
   "name": "python",
   "nbconvert_exporter": "python",
   "pygments_lexer": "ipython3",
   "version": "3.7.13"
  }
 },
 "nbformat": 4,
 "nbformat_minor": 5
}
